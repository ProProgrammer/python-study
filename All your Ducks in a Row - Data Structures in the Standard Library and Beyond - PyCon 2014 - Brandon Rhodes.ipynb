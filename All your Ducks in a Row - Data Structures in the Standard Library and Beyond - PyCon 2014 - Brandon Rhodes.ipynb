{
 "cells": [
  {
   "cell_type": "markdown",
   "metadata": {},
   "source": [
    "[Youtube](https://www.youtube.com/watch?v=fYlnfvKVDoM) | Slides | Date: March 1 2020"
   ]
  },
  {
   "cell_type": "markdown",
   "metadata": {},
   "source": [
    "# Purpose of this talk\n",
    "- This is a beginner to itermediate level talk\n",
    "- **_How_** data structures work\n",
    "- **_What_** they can do efficiently\n",
    "- **_What_** data structure is Python's most dangerous\n",
    "    - **`list`**\n",
    "\n",
    "## This talk ignores\n",
    "- Data structure compression\n",
    "- Memory hierarchy (but see **Gustavo Duarte's What Your Computer Does While You Wait** blog post and **Dan Luu's How Misaligning Data Can Increase Performance 12x** blog post)\n",
    "- **Why are these issues ignored?**\n",
    "    - _Because the Standard Library does_\n",
    "\n",
    "### Addresses\n",
    "- Can add and subtract from one address to visit another address near it\n",
    "- Address arithmetic supports: Records and Arrays\n",
    "- Record\n",
    "    - Sequence of fields in an agreed order\n",
    "    - Every Python object in CPython always starts its record with 8 bytes of ref count on a 64 bit machine and 8 byte address of the **type** -> this is how an `int`/`float`/`str` are laid out in actual machines\n",
    "    - Some data structures have more information than just ref count and address of type, for e.g. `str` has `length`, `hash`, `flags` and `address` too before the actual payload (i.e. the value of the string itself.\n",
    "    - **Field Retrieval** - Retrieve a field from a _record_ by adding record's start address + field offset (simple address arithmetic)\n",
    "    - `struct` - Very useful for binary conversations with C library or doing I/O\n",
    "        - Typically only for very low level operations\n",
    "- Array\n",
    "    - In an `array`, 12:35"
   ]
  },
  {
   "cell_type": "code",
   "execution_count": 7,
   "metadata": {},
   "outputs": [
    {
     "name": "stdout",
     "output_type": "stream",
     "text": [
      "1.103207652000492\n",
      "0.5610957150001923\n"
     ]
    }
   ],
   "source": [
    "def func():\n",
    "    mylist = list(range(1000))\n",
    "    while mylist:\n",
    "        result = mylist.pop(0)\n",
    "\n",
    "def func_reversed():\n",
    "    mylist = list(range(1000))\n",
    "    mylist_reversed = list(reversed(mylist))\n",
    "    while mylist_reversed:\n",
    "        result = mylist_reversed.pop()\n",
    "\n",
    "import timeit\n",
    "print(timeit.timeit(func, number=10000))\n",
    "print(timeit.timeit(func_reversed, number=10000))"
   ]
  },
  {
   "cell_type": "code",
   "execution_count": null,
   "metadata": {},
   "outputs": [],
   "source": []
  }
 ],
 "metadata": {
  "kernelspec": {
   "display_name": "Python 3",
   "language": "python",
   "name": "python3"
  },
  "language_info": {
   "codemirror_mode": {
    "name": "ipython",
    "version": 3
   },
   "file_extension": ".py",
   "mimetype": "text/x-python",
   "name": "python",
   "nbconvert_exporter": "python",
   "pygments_lexer": "ipython3",
   "version": "3.8.0"
  }
 },
 "nbformat": 4,
 "nbformat_minor": 4
}
