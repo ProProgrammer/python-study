{
 "cells": [
  {
   "cell_type": "markdown",
   "metadata": {},
   "source": [
    "Consider Agile Software Development\n",
    "\tStart by making a first cut of your software\n",
    "\tSoftware you get isn't a very good estimate of what you are gonna actually deliver\n",
    "\tThen, you essentially get a more detailed measurement unit and start adding details to your software design\n",
    "\tDoes Agile converge? Is it an infinite process or do you end up stopping software when it is good enough?\n",
    "\n",
    "Complexity is different to different perspectives. There are unlimited measure of complexity in this universe\n",
    "\n",
    "If what you are attempting to model is more complex than the software that you wrote then likely your model is incorrect. Because your software inevitably will be more complex than the thing that you were trying to model. If its exactly the same + some overhead for whatever the language does.\n",
    "\n",
    "Example Binary Tree - It doesn't have any Cyclomatic complexity because there are no cycles in it. But a different measure of complexity, one that takes into account not just the nodes of the binary tree but the shape of the path between the nodes, like fractal dimension - the binary trees can be very complex\n",
    "\n",
    "So how do you express the curviness if a line?\n",
    "\tIn this case the speaker (K Lars Lohn) uses fractal dimension\n",
    "\n",
    "Fractal dimension - can be thought of as how fervently a line is trying to be plane - The closer you look the more diversions from straightness are visible - Definition: Ratio of change in detail to change in scale\n",
    "Gave examples of Koch Curve and the formula for calculating its fractal dimension\n",
    "\n",
    "No simple forumla to come up with fractal dimension of real world phenomenon\n",
    "\tTalks about box covering algorithm to measure distance between two points\n",
    "\tAs we take smaller and smaller box sizes (i.e we become more granular in your measuring unit), the number of boxes that it takes to cover that distance seems to go on increasing\n",
    "\tWe are back in the same tiff - When to stop? \n",
    "\n",
    "Talks about how he was teaching sorting in a class during the 80s and then the students seemed totally confused. He mentions \"Sometimes complexity is in the eye of the beholder\"\n",
    "One of the students then mentioned to him that it is not how he sorts things in real life.\n",
    "Upon inquiring further, that student gave one of the best definions of recursive partition (Quick) Sort\n",
    "\tHere it is:\n",
    "\tLet us say we have a bunch of things we are gonna sort \n",
    "\tand its sitting on the table\n",
    "\tWe just guess which one's gonna be in the middle, push it to the back of the table\n",
    "\tWe take what is left, split them into two piles\n",
    "\tMove things that are less on one side, move things that are greater to the other side\n",
    "\tThat leaves us with two piles on opposite sides of the one in the back (i.e. the one that we think goes in middle)\n",
    "\tRepeat with the two piles and continue to repeat until we don't have any piles left\n",
    "\n",
    "Talks about how when its usually taught in schools, the teaching approach is kinda like writing code in C which takes too much interest in the dealing of array indices where they are just busy dealing with swapping idea of the data in the arrays - however that is totally irrelevant to the algorithm here.\n",
    "\n",
    "If you think about the path that you life has taken - what is the fractal dimension of your life? And how many left turns have you made?"
   ]
  },
  {
   "cell_type": "code",
   "execution_count": null,
   "metadata": {},
   "outputs": [],
   "source": []
  }
 ],
 "metadata": {
  "kernelspec": {
   "display_name": "Python 3",
   "language": "python",
   "name": "python3"
  },
  "language_info": {
   "codemirror_mode": {
    "name": "ipython",
    "version": 3
   },
   "file_extension": ".py",
   "mimetype": "text/x-python",
   "name": "python",
   "nbconvert_exporter": "python",
   "pygments_lexer": "ipython3",
   "version": "3.5.7"
  }
 },
 "nbformat": 4,
 "nbformat_minor": 2
}
