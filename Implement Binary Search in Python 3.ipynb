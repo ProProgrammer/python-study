{
 "cells": [
  {
   "cell_type": "code",
   "execution_count": 8,
   "metadata": {},
   "outputs": [
    {
     "name": "stdout",
     "output_type": "stream",
     "text": [
      "[6, 7, 8, 9, 10, 11, 14, 15, 17, 19, 22, 23, 25, 28, 30]\n"
     ]
    }
   ],
   "source": [
    "input_list = [11, 23, 8, 14, 30, 9, 6, 17, 22, 28, 25, 15, 7, 10, 19]\n",
    "input_data = sorted(input_list)\n",
    "print(input_data)"
   ]
  },
  {
   "cell_type": "code",
   "execution_count": 5,
   "metadata": {},
   "outputs": [
    {
     "name": "stdout",
     "output_type": "stream",
     "text": [
      "7\n"
     ]
    }
   ],
   "source": [
    "start = 0\n",
    "end = 15\n",
    "\n",
    "print(int((start + end)/2))"
   ]
  },
  {
   "cell_type": "code",
   "execution_count": 16,
   "metadata": {},
   "outputs": [],
   "source": [
    "def binary_search(what_to_find, input_data, start_index=0, end_index=len(input_data)):\n",
    "    \n",
    "    print('running binary search')\n",
    "    # If there is only one item in the list\n",
    "    if len(input_data) == 1:\n",
    "        if what_to_find == input_data[0]:\n",
    "            return 0 # That is the index of the value that we wanted to find in the input_data\n",
    "        else:\n",
    "            return \"Value does not exist in the given input data\"\n",
    "    \n",
    "    # Calculate the middle of the input data\n",
    "    middle_index = int((start_index+end_index)/2)\n",
    "    \n",
    "    # if the target (value the search) is the value at the middle, return middle and stop!\n",
    "    if input_data[middle_index] == what_to_find:\n",
    "        return middle_index # middle is the index in the input_data where the value exists that we want to find\n",
    "    \n",
    "    # If the target is in left half of input data\n",
    "    elif what_to_find < input_data[middle_index]:\n",
    "        start_index = 0\n",
    "        end_index = middle_index - 1 # Just to the left of the original middle\n",
    "    \n",
    "    elif what_to_find > input_data[middle_index]:\n",
    "        start_index = middle_index + 1 # Just to the right of the original middle\n",
    "        end_index = end_index # We are leaving it as default value which was len(input_data) so that we search the entire remaining input data\n",
    "    \n",
    "    else:\n",
    "        return \"Value does not exist in the given input data\"\n",
    "    \n",
    "    print('new start_index {}, new end_index {}'.format(start_index, end_index))\n",
    "    return binary_search(what_to_find, input_data, start_index=start_index, end_index=end_index)"
   ]
  },
  {
   "cell_type": "code",
   "execution_count": 17,
   "metadata": {},
   "outputs": [
    {
     "name": "stdout",
     "output_type": "stream",
     "text": [
      "input data:  [6, 7, 8, 9, 10, 11, 14, 15, 17, 19, 22, 23, 25, 28, 30]\n",
      "running binary search\n",
      "new start_index 0, new end_index 6\n",
      "running binary search\n",
      "new start_index 0, new end_index 2\n",
      "running binary search\n",
      "new start_index 2, new end_index 2\n",
      "running binary search\n",
      "2\n"
     ]
    }
   ],
   "source": [
    "input_list = [11, 23, 8, 14, 30, 9, 6, 17, 22, 28, 25, 15, 7, 10, 19]\n",
    "input_data = sorted(input_list)\n",
    "print('input data: ', input_data)\n",
    "print(binary_search(8, input_data))"
   ]
  },
  {
   "cell_type": "code",
   "execution_count": null,
   "metadata": {},
   "outputs": [],
   "source": [
    "# input_list = [1, 2, 3, 4, 5]\n",
    "# value_we_want_to_find = 5\n",
    "# middle value is 3, this is not the value that we want to find\n",
    "\n",
    "# input_list = [1, 2, 3, 4, 5]\n",
    "# start = 3\n",
    "# end = 5\n",
    "# middle = (start + end) / 2 = (3 + 5) / 2 = 8 / 2 = 4\n",
    "# middle = 4, value in middle = 5\n"
   ]
  }
 ],
 "metadata": {
  "kernelspec": {
   "display_name": "Python 3",
   "language": "python",
   "name": "python3"
  },
  "language_info": {
   "codemirror_mode": {
    "name": "ipython",
    "version": 3
   },
   "file_extension": ".py",
   "mimetype": "text/x-python",
   "name": "python",
   "nbconvert_exporter": "python",
   "pygments_lexer": "ipython3",
   "version": "3.8.2"
  }
 },
 "nbformat": 4,
 "nbformat_minor": 4
}
